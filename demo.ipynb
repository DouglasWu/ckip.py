{
 "cells": [
  {
   "cell_type": "code",
   "execution_count": 1,
   "metadata": {
    "collapsed": false,
    "deletable": true,
    "editable": true
   },
   "outputs": [],
   "source": [
    "from __future__ import unicode_literals, print_function\n",
    "\n",
    "from ckip import CKIPParser\n",
    "from utils import construct_parsing_tree, get_relations"
   ]
  },
  {
   "cell_type": "code",
   "execution_count": 2,
   "metadata": {
    "collapsed": false,
    "deletable": true,
    "editable": true
   },
   "outputs": [
    {
     "name": "stdout",
     "output_type": "stream",
     "text": [
      "S(experiencer:NP(Head:Nhaa:我們)|quantity:Dab:都|Head:VK1:喜歡|goal:NP(property:V•的(head:VH11:美麗|Head:DE:的)|Head:Nab:蝴蝶))\n"
     ]
    }
   ],
   "source": [
    "raw_text = '我們都喜歡美麗的蝴蝶'\n",
    "parser = CKIPParser('YOUR USERNAME', 'YOUR PASSWORD')\n",
    "result = parser.process(raw_text)\n",
    "tree_text = result['result'][0]['tree']\n",
    "print(tree_text)"
   ]
  },
  {
   "cell_type": "code",
   "execution_count": 3,
   "metadata": {
    "collapsed": false,
    "deletable": true,
    "editable": true
   },
   "outputs": [
    {
     "data": {
      "text/plain": [
       "{'child': [{'child': [{'id': 0, 'pos': 'Nhaa', 'role': 'Head', 'term': '我們'}],\n",
       "   'head': {'id': 0, 'pos': 'Nhaa', 'role': 'Head', 'term': '我們'},\n",
       "   'id': 1,\n",
       "   'pos': 'NP',\n",
       "   'role': 'experiencer'},\n",
       "  {'id': 2, 'pos': 'Dab', 'role': 'quantity', 'term': '都'},\n",
       "  {'id': 3, 'pos': 'VK1', 'role': 'Head', 'term': '喜歡'},\n",
       "  {'child': [{'child': [{'id': 4, 'pos': 'VH11', 'role': 'head', 'term': '美麗'},\n",
       "      {'id': 5, 'pos': 'DE', 'role': 'Head', 'term': '的'}],\n",
       "     'head': {'id': 4, 'pos': 'VH11', 'role': 'head', 'term': '美麗'},\n",
       "     'id': 6,\n",
       "     'pos': 'V•的',\n",
       "     'role': 'property'},\n",
       "    {'id': 7, 'pos': 'Nab', 'role': 'Head', 'term': '蝴蝶'}],\n",
       "   'head': {'id': 7, 'pos': 'Nab', 'role': 'Head', 'term': '蝴蝶'},\n",
       "   'id': 8,\n",
       "   'pos': 'NP',\n",
       "   'role': 'goal'}],\n",
       " 'head': {'id': 3, 'pos': 'VK1', 'role': 'Head', 'term': '喜歡'},\n",
       " 'pos': 'S'}"
      ]
     },
     "execution_count": 3,
     "metadata": {},
     "output_type": "execute_result"
    }
   ],
   "source": [
    "tree = construct_parsing_tree(tree_text)\n",
    "tree"
   ]
  },
  {
   "cell_type": "code",
   "execution_count": 4,
   "metadata": {
    "collapsed": false,
    "deletable": true,
    "editable": true
   },
   "outputs": [
    {
     "name": "stdout",
     "output_type": "stream",
     "text": [
      "experiencer Nhaa 我們\n",
      "Head[S] VK1 喜歡\n",
      "--------------------------------------------------\n",
      "quantity Dab 都\n",
      "Head[S] VK1 喜歡\n",
      "--------------------------------------------------\n",
      "Head[S] VK1 喜歡\n",
      "goal Nab 蝴蝶\n",
      "--------------------------------------------------\n",
      "property VH11 美麗\n",
      "Head[NP] Nab 蝴蝶\n",
      "--------------------------------------------------\n",
      "head[V•的] VH11 美麗\n",
      "Head DE 的\n",
      "--------------------------------------------------\n"
     ]
    }
   ],
   "source": [
    "for r1, r2 in get_relations(tree):\n",
    "    print(r1['role'], r1['pos'], r1['term'])\n",
    "    print(r2['role'], r2['pos'], r2['term'])\n",
    "    print('-'*50)"
   ]
  }
 ],
 "metadata": {
  "kernelspec": {
   "display_name": "Python 3",
   "language": "python",
   "name": "python3"
  },
  "language_info": {
   "codemirror_mode": {
    "name": "ipython",
    "version": 3
   },
   "file_extension": ".py",
   "mimetype": "text/x-python",
   "name": "python",
   "nbconvert_exporter": "python",
   "pygments_lexer": "ipython3",
   "version": "3.5.1"
  }
 },
 "nbformat": 4,
 "nbformat_minor": 0
}
