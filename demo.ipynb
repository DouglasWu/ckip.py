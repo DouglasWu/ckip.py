{
 "cells": [
  {
   "cell_type": "code",
   "execution_count": 1,
   "metadata": {
    "collapsed": false,
    "deletable": true,
    "editable": true
   },
   "outputs": [],
   "source": [
    "from __future__ import unicode_literals, print_function\n",
    "\n",
    "from ckip import CKIPParser\n",
    "from utils import construct_parsing_tree, get_relations_all"
   ]
  },
  {
   "cell_type": "code",
   "execution_count": 2,
   "metadata": {
    "collapsed": false,
    "deletable": true,
    "editable": true
   },
   "outputs": [
    {
     "name": "stdout",
     "output_type": "stream",
     "text": [
      "S(agent:NP(DUMMY1:NP(property:V•的(head:VH11:聰明|Head:DE:的)|Head:Nba:小明)|Head:Caa:和|DUMMY2:NP(property:VP•的(head:VP(Head:VH11:帥氣)|Head:DE:的)|Head:Nhaa:我))|time:Ndabd:今天|condition:PP(Head:P21:在|DUMMY:NP(Head:Nab:海邊))|Head:VC2:玩|goal:NP(property:V•的(head:VH11:好玩|Head:DE:的)|Head:Nac:遊戲))\n"
     ]
    }
   ],
   "source": [
    "raw_text = '聰明的小明和帥氣的我今天在海邊玩好玩的遊戲'\n",
    "parser = CKIPParser('USERNAME', 'PASSWORD')\n",
    "result = parser.process(raw_text)\n",
    "tree_text = result['result'][0]['tree']\n",
    "print(tree_text)"
   ]
  },
  {
   "cell_type": "code",
   "execution_count": 3,
   "metadata": {
    "collapsed": false
   },
   "outputs": [],
   "source": [
    "examples = [\n",
    "    'S(agent:NP(DUMMY1:NP(property:V•的(head:VH11:聰明|Head:DE:的)|Head:Nba:小明)|Head:Caa:和|DUMMY2:NP(property:VP•的(head:VP(Head:VH11:帥氣)|Head:DE:的)|Head:Nhaa:我))|time:Ndabd:今天|condition:PP(Head:P21:在|DUMMY:NP(Head:Nab:海邊))|Head:VC2:玩|goal:NP(property:V•的(head:VH11:好玩|Head:DE:的)|Head:Nac:遊戲))',\n",
    "    'PP(Head:P32:對於|DUMMY:NP(property:VP‧的(theme:VP(DUMMY1:VP(Head:VH11:休耕)|Head:Caa:、|DUMMY2:VP(Head:VA11:廢耕)|Head:Caa:及|complement:VP(quantity:NP(Head:Neqa:其他)|negation:Dc:不|manner:VH15:適宜|Head:VC31:耕種))|Head:DE:的)|Head:Nab:農地))',\n",
    "    'S(agent:NP(DUMMY1:NP(property:V•的(head:VH11:聰明|Head:DE:的)|Head:Nba:小明)|Head:Caa:和|DUMMY2:NP(property:VP•的(head:VP(Head:VH11:帥氣)|Head:DE:的)|Head:Nhaa:我))|time:Ndabd:今天|condition:PP(Head:P21:在|DUMMY:NP(Head:Nab:海邊))|Head:VC2:玩|goal:NP(property:V•的(head:VH11:好玩|Head:DE:的)|Head:Nac:遊戲))',\n",
    "    'VP(Head:VC33:放|aspect:Di:著|theme:Neqa:許多|theme:NP(quantity:Daa:才|Head:NP(DUMMY1:NP(predication:V‧的(head:VC31:出版|Head:DE:的)|Head:Nab:書)|Head:Caa:和|DUMMY2:NP(Head:Nab:雜誌))))',\n",
    "    'S(theme:NP(property:PP‧的(head:PP(Head:P21:在|DUMMY:GP(DUMMY:NP(Head:Nab:夕陽)|Head:Ng:下))|Head:DE:的)|Head:Naa:海浪)|Head:VH11(Head:VH11:特別|Head:VH11:迷人))',\n",
    "    'PP(Head:P21:在|DUMMY:NP(property:NP(possessor:N‧的(head:Nba(DUMMY1:Nba:小明|Head:Caa:和|DUMMY2:Nba:小華)|Head:DE:的)|Head:Ncb:世界)|Head:Ncda:裡))',\n",
    "    'S(DUMMY1:NP(property:V‧的(head:VH11:無盡|Head:DE:的)|Head:Nad:黑暗)|Head:Caa:和|DUMMY2:VP(manner:V‧地(head:VH11:永恆|Head:DE:的)|Head:VH11:光明))'\n",
    "]\n",
    "tree_text = examples[0]\n",
    "tree = construct_parsing_tree(tree_text)"
   ]
  },
  {
   "cell_type": "code",
   "execution_count": 4,
   "metadata": {
    "collapsed": false
   },
   "outputs": [
    {
     "data": {
      "text/plain": [
       "{'child': [{'child': [{'child': [{'child': [{'id': 0,\n",
       "         'pos': 'VH11',\n",
       "         'role': 'head',\n",
       "         'term': '聰明'},\n",
       "        {'id': 1, 'pos': 'DE', 'role': 'Head', 'term': '的'}],\n",
       "       'id': 2,\n",
       "       'pos': 'V•的',\n",
       "       'role': 'property'},\n",
       "      {'id': 3, 'pos': 'Nba', 'role': 'Head', 'term': '小明'}],\n",
       "     'id': 4,\n",
       "     'pos': 'NP',\n",
       "     'role': 'DUMMY1'},\n",
       "    {'id': 5, 'pos': 'Caa', 'role': 'Head', 'term': '和'},\n",
       "    {'child': [{'child': [{'child': [{'id': 6,\n",
       "           'pos': 'VH11',\n",
       "           'role': 'Head',\n",
       "           'term': '帥氣'}],\n",
       "         'id': 7,\n",
       "         'pos': 'VP',\n",
       "         'role': 'head'},\n",
       "        {'id': 8, 'pos': 'DE', 'role': 'Head', 'term': '的'}],\n",
       "       'id': 9,\n",
       "       'pos': 'VP•的',\n",
       "       'role': 'property'},\n",
       "      {'id': 10, 'pos': 'Nhaa', 'role': 'Head', 'term': '我'}],\n",
       "     'id': 11,\n",
       "     'pos': 'NP',\n",
       "     'role': 'DUMMY2'}],\n",
       "   'id': 12,\n",
       "   'pos': 'NP',\n",
       "   'role': 'agent'},\n",
       "  {'id': 13, 'pos': 'Ndabd', 'role': 'time', 'term': '今天'},\n",
       "  {'child': [{'id': 14, 'pos': 'P21', 'role': 'Head', 'term': '在'},\n",
       "    {'child': [{'id': 15, 'pos': 'Nab', 'role': 'Head', 'term': '海邊'}],\n",
       "     'id': 16,\n",
       "     'pos': 'NP',\n",
       "     'role': 'DUMMY'}],\n",
       "   'id': 17,\n",
       "   'pos': 'PP',\n",
       "   'role': 'condition'},\n",
       "  {'id': 18, 'pos': 'VC2', 'role': 'Head', 'term': '玩'},\n",
       "  {'child': [{'child': [{'id': 19,\n",
       "       'pos': 'VH11',\n",
       "       'role': 'head',\n",
       "       'term': '好玩'},\n",
       "      {'id': 20, 'pos': 'DE', 'role': 'Head', 'term': '的'}],\n",
       "     'id': 21,\n",
       "     'pos': 'V•的',\n",
       "     'role': 'property'},\n",
       "    {'id': 22, 'pos': 'Nac', 'role': 'Head', 'term': '遊戲'}],\n",
       "   'id': 23,\n",
       "   'pos': 'NP',\n",
       "   'role': 'goal'}],\n",
       " 'pos': 'S',\n",
       " 'role': 'root'}"
      ]
     },
     "execution_count": 4,
     "metadata": {},
     "output_type": "execute_result"
    }
   ],
   "source": [
    "tree"
   ]
  },
  {
   "cell_type": "code",
   "execution_count": 5,
   "metadata": {
    "collapsed": false,
    "scrolled": false
   },
   "outputs": [
    {
     "name": "stdout",
     "output_type": "stream",
     "text": [
      "agent Nba 小明\n",
      "Head[S] VC2 玩\n",
      "--------------------\n",
      "agent Nhaa 我\n",
      "Head[S] VC2 玩\n",
      "--------------------\n",
      "DUMMY1 Nba 小明\n",
      "DUMMY2 Nhaa 我\n",
      "--------------------\n",
      "property VH11 聰明\n",
      "Head[NP] Nba 小明\n",
      "--------------------\n",
      "head VH11 聰明\n",
      "Head[V•的] DE 的\n",
      "--------------------\n",
      "property VH11 帥氣\n",
      "Head[NP] Nhaa 我\n",
      "--------------------\n",
      "head VH11 帥氣\n",
      "Head[VP•的] DE 的\n",
      "--------------------\n",
      "time Ndabd 今天\n",
      "Head[S] VC2 玩\n",
      "--------------------\n",
      "condition P21..Nab 在..海邊\n",
      "Head[S] VC2 玩\n",
      "--------------------\n",
      "Head[PP] P21 在\n",
      "DUMMY Nab 海邊\n",
      "--------------------\n",
      "Head[S] VC2 玩\n",
      "goal Nac 遊戲\n",
      "--------------------\n",
      "property VH11 好玩\n",
      "Head[NP] Nac 遊戲\n",
      "--------------------\n",
      "head VH11 好玩\n",
      "Head[V•的] DE 的\n",
      "--------------------\n"
     ]
    }
   ],
   "source": [
    "for r1, r2 in get_relations_all(tree):\n",
    "    print(r1['role'], r1['pos'], r1['term'])\n",
    "    print(r2['role'], r2['pos'], r2['term'])\n",
    "    print('-'*20)"
   ]
  }
 ],
 "metadata": {
  "kernelspec": {
   "display_name": "Python 3",
   "language": "python",
   "name": "python3"
  },
  "language_info": {
   "codemirror_mode": {
    "name": "ipython",
    "version": 3
   },
   "file_extension": ".py",
   "mimetype": "text/x-python",
   "name": "python",
   "nbconvert_exporter": "python",
   "pygments_lexer": "ipython3",
   "version": "3.5.1"
  }
 },
 "nbformat": 4,
 "nbformat_minor": 0
}
