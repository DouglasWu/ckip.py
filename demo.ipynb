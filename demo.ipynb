{
 "cells": [
  {
   "cell_type": "code",
   "execution_count": 1,
   "metadata": {
    "collapsed": false,
    "deletable": true,
    "editable": true
   },
   "outputs": [],
   "source": [
    "from __future__ import unicode_literals, print_function\n",
    "\n",
    "from ckip import CKIPParser\n",
    "from utils import construct_parsing_tree, get_relations_all"
   ]
  },
  {
   "cell_type": "code",
   "execution_count": 2,
   "metadata": {
    "collapsed": false,
    "deletable": true,
    "editable": true
   },
   "outputs": [
    {
     "name": "stdout",
     "output_type": "stream",
     "text": [
      "S(agent:NP(DUMMY1:Nba:小明|Head:Caa:和|DUMMY2:NP(Head:Nhaa:我))|condition:PP(Head:P21:在|DUMMY:NP(Head:Nab:海邊))|Head:VC2:玩|goal:NP(property:V•的(head:VH11:好玩|Head:DE:的)|Head:Nac:遊戲))\n"
     ]
    }
   ],
   "source": [
    "raw_text = '小明和我在海邊玩好玩的遊戲'\n",
    "parser = CKIPParser('username', 'password')\n",
    "result = parser.process(raw_text)\n",
    "tree_text = result['result'][0]['tree']\n",
    "print(tree_text)"
   ]
  },
  {
   "cell_type": "code",
   "execution_count": 3,
   "metadata": {
    "collapsed": false
   },
   "outputs": [
    {
     "data": {
      "text/plain": [
       "{'child': [{'child': [{'id': 0, 'pos': 'Nba', 'role': 'DUMMY1', 'term': '小明'},\n",
       "    {'id': 1, 'pos': 'Caa', 'role': 'Head', 'term': '和'},\n",
       "    {'child': [{'id': 2, 'pos': 'Nhaa', 'role': 'Head', 'term': '我'}],\n",
       "     'id': 3,\n",
       "     'pos': 'NP',\n",
       "     'role': 'DUMMY2'}],\n",
       "   'id': 4,\n",
       "   'pos': 'NP',\n",
       "   'role': 'agent'},\n",
       "  {'child': [{'id': 5, 'pos': 'P21', 'role': 'Head', 'term': '在'},\n",
       "    {'child': [{'id': 6, 'pos': 'Nab', 'role': 'Head', 'term': '海邊'}],\n",
       "     'id': 7,\n",
       "     'pos': 'NP',\n",
       "     'role': 'DUMMY'}],\n",
       "   'id': 8,\n",
       "   'pos': 'PP',\n",
       "   'role': 'condition'},\n",
       "  {'id': 9, 'pos': 'VC2', 'role': 'Head', 'term': '玩'},\n",
       "  {'child': [{'child': [{'id': 10,\n",
       "       'pos': 'VH11',\n",
       "       'role': 'head',\n",
       "       'term': '好玩'},\n",
       "      {'id': 11, 'pos': 'DE', 'role': 'Head', 'term': '的'}],\n",
       "     'id': 12,\n",
       "     'pos': 'V•的',\n",
       "     'role': 'property'},\n",
       "    {'id': 13, 'pos': 'Nac', 'role': 'Head', 'term': '遊戲'}],\n",
       "   'id': 14,\n",
       "   'pos': 'NP',\n",
       "   'role': 'goal'}],\n",
       " 'pos': 'S'}"
      ]
     },
     "execution_count": 3,
     "metadata": {},
     "output_type": "execute_result"
    }
   ],
   "source": [
    "tree = construct_parsing_tree(tree_text)\n",
    "tree"
   ]
  },
  {
   "cell_type": "code",
   "execution_count": 4,
   "metadata": {
    "collapsed": false,
    "scrolled": false
   },
   "outputs": [
    {
     "name": "stdout",
     "output_type": "stream",
     "text": [
      "DUMMY1 Nba 小明\n",
      "Head[S] VC2 玩\n",
      "--------------------------------------------------\n",
      "DUMMY2 Nhaa 我\n",
      "Head[S] VC2 玩\n",
      "--------------------------------------------------\n",
      "DUMMY1 Nba 小明\n",
      "Head[NP] Caa 和\n",
      "--------------------------------------------------\n",
      "Head[NP] Caa 和\n",
      "DUMMY2 Nhaa 我\n",
      "--------------------------------------------------\n",
      "condition P21..Nab 在..海邊\n",
      "Head[S] VC2 玩\n",
      "--------------------------------------------------\n",
      "Head[PP] P21 在\n",
      "DUMMY Nab 海邊\n",
      "--------------------------------------------------\n",
      "Head[S] VC2 玩\n",
      "goal Nac 遊戲\n",
      "--------------------------------------------------\n",
      "property VH11 好玩\n",
      "Head[NP] Nac 遊戲\n",
      "--------------------------------------------------\n",
      "head[V•的] VH11 好玩\n",
      "Head DE 的\n",
      "--------------------------------------------------\n"
     ]
    }
   ],
   "source": [
    "for r1, r2 in get_relations_all(tree):\n",
    "    print(r1['role'], r1['pos'], r1['term'])\n",
    "    print(r2['role'], r2['pos'], r2['term'])\n",
    "    print('-'*50)"
   ]
  }
 ],
 "metadata": {
  "kernelspec": {
   "display_name": "Python 3",
   "language": "python",
   "name": "python3"
  },
  "language_info": {
   "codemirror_mode": {
    "name": "ipython",
    "version": 3
   },
   "file_extension": ".py",
   "mimetype": "text/x-python",
   "name": "python",
   "nbconvert_exporter": "python",
   "pygments_lexer": "ipython3",
   "version": "3.5.1"
  }
 },
 "nbformat": 4,
 "nbformat_minor": 0
}
